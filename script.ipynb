{
 "cells": [
  {
   "cell_type": "markdown",
   "id": "6c580d58",
   "metadata": {},
   "source": [
    "data modeling using python and postgres\n",
    "\n",
    "check out the readme for detailed information about this project!"
   ]
  },
  {
   "cell_type": "code",
   "execution_count": 3,
   "id": "a9b23760",
   "metadata": {},
   "outputs": [],
   "source": [
    "# importing libraries\n",
    "import psycopg2\n",
    "import pandas as pd"
   ]
  },
  {
   "cell_type": "code",
   "execution_count": 47,
   "id": "9d63c906",
   "metadata": {},
   "outputs": [],
   "source": [
    "# reading our csv file\n",
    "employee_df = pd.read_csv('employee.csv')"
   ]
  },
  {
   "cell_type": "code",
   "execution_count": 48,
   "id": "e8f72929",
   "metadata": {},
   "outputs": [
    {
     "data": {
      "text/html": [
       "<div>\n",
       "<style scoped>\n",
       "    .dataframe tbody tr th:only-of-type {\n",
       "        vertical-align: middle;\n",
       "    }\n",
       "\n",
       "    .dataframe tbody tr th {\n",
       "        vertical-align: top;\n",
       "    }\n",
       "\n",
       "    .dataframe thead th {\n",
       "        text-align: right;\n",
       "    }\n",
       "</style>\n",
       "<table border=\"1\" class=\"dataframe\">\n",
       "  <thead>\n",
       "    <tr style=\"text-align: right;\">\n",
       "      <th></th>\n",
       "      <th>id</th>\n",
       "      <th>name</th>\n",
       "      <th>phone</th>\n",
       "      <th>email</th>\n",
       "      <th>address</th>\n",
       "    </tr>\n",
       "  </thead>\n",
       "  <tbody>\n",
       "    <tr>\n",
       "      <th>0</th>\n",
       "      <td>1</td>\n",
       "      <td>Bart Thornton</td>\n",
       "      <td>4-088-046-2812</td>\n",
       "      <td>Bart_Thornton9250@urn0m.business</td>\n",
       "      <td>Maple Rue, 3966</td>\n",
       "    </tr>\n",
       "    <tr>\n",
       "      <th>1</th>\n",
       "      <td>2</td>\n",
       "      <td>Michael Harper</td>\n",
       "      <td>2-054-128-1477</td>\n",
       "      <td>Michael_Harper6871@urn0m.meet</td>\n",
       "      <td>Cavell   Drive, 8517</td>\n",
       "    </tr>\n",
       "    <tr>\n",
       "      <th>2</th>\n",
       "      <td>3</td>\n",
       "      <td>Chuck Brooks</td>\n",
       "      <td>3-348-241-6453</td>\n",
       "      <td>Chuck_Brooks3347@lyvnc.info</td>\n",
       "      <td>Arctic   Hill, 5136</td>\n",
       "    </tr>\n",
       "    <tr>\n",
       "      <th>3</th>\n",
       "      <td>4</td>\n",
       "      <td>Abdul Healy</td>\n",
       "      <td>4-460-351-8807</td>\n",
       "      <td>Abdul_Healy4473@dbxli.store</td>\n",
       "      <td>Colombo   Crossroad, 5458</td>\n",
       "    </tr>\n",
       "    <tr>\n",
       "      <th>4</th>\n",
       "      <td>5</td>\n",
       "      <td>Ethan Reid</td>\n",
       "      <td>0-258-347-4544</td>\n",
       "      <td>Ethan_Reid4292@avn7d.info</td>\n",
       "      <td>Paris   Crossroad, 6777</td>\n",
       "    </tr>\n",
       "  </tbody>\n",
       "</table>\n",
       "</div>"
      ],
      "text/plain": [
       "   id            name           phone                             email  \\\n",
       "0   1   Bart Thornton  4-088-046-2812  Bart_Thornton9250@urn0m.business   \n",
       "1   2  Michael Harper  2-054-128-1477     Michael_Harper6871@urn0m.meet   \n",
       "2   3    Chuck Brooks  3-348-241-6453       Chuck_Brooks3347@lyvnc.info   \n",
       "3   4     Abdul Healy  4-460-351-8807       Abdul_Healy4473@dbxli.store   \n",
       "4   5      Ethan Reid  0-258-347-4544         Ethan_Reid4292@avn7d.info   \n",
       "\n",
       "                     address  \n",
       "0            Maple Rue, 3966  \n",
       "1       Cavell   Drive, 8517  \n",
       "2        Arctic   Hill, 5136  \n",
       "3  Colombo   Crossroad, 5458  \n",
       "4    Paris   Crossroad, 6777  "
      ]
     },
     "execution_count": 48,
     "metadata": {},
     "output_type": "execute_result"
    }
   ],
   "source": [
    "employee_df.head()"
   ]
  },
  {
   "cell_type": "code",
   "execution_count": 49,
   "id": "c0ad0ea8",
   "metadata": {},
   "outputs": [],
   "source": [
    "# reading our second csv file\n",
    "company_df = pd.read_csv('company.csv')"
   ]
  },
  {
   "cell_type": "code",
   "execution_count": 50,
   "id": "2a3e6f14",
   "metadata": {},
   "outputs": [
    {
     "data": {
      "text/html": [
       "<div>\n",
       "<style scoped>\n",
       "    .dataframe tbody tr th:only-of-type {\n",
       "        vertical-align: middle;\n",
       "    }\n",
       "\n",
       "    .dataframe tbody tr th {\n",
       "        vertical-align: top;\n",
       "    }\n",
       "\n",
       "    .dataframe thead th {\n",
       "        text-align: right;\n",
       "    }\n",
       "</style>\n",
       "<table border=\"1\" class=\"dataframe\">\n",
       "  <thead>\n",
       "    <tr style=\"text-align: right;\">\n",
       "      <th></th>\n",
       "      <th>employee_id</th>\n",
       "      <th>company_id</th>\n",
       "      <th>company_name</th>\n",
       "      <th>location</th>\n",
       "    </tr>\n",
       "  </thead>\n",
       "  <tbody>\n",
       "    <tr>\n",
       "      <th>0</th>\n",
       "      <td>1</td>\n",
       "      <td>0efc48df-70d1-4c6a-8130-b0ca3f582570</td>\n",
       "      <td>UPC</td>\n",
       "      <td>Carlton  Hill, 3896</td>\n",
       "    </tr>\n",
       "    <tr>\n",
       "      <th>1</th>\n",
       "      <td>2</td>\n",
       "      <td>ca42e4f3-849b-49f5-8653-a266fe6d02fe</td>\n",
       "      <td>UPC</td>\n",
       "      <td>Timothy  Grove, 6591</td>\n",
       "    </tr>\n",
       "    <tr>\n",
       "      <th>2</th>\n",
       "      <td>3</td>\n",
       "      <td>6846a865-ddc6-45c1-8ea2-6992d50c7b97</td>\n",
       "      <td>Team Guard SRL</td>\n",
       "      <td>Bempton   Road, 1640</td>\n",
       "    </tr>\n",
       "    <tr>\n",
       "      <th>3</th>\n",
       "      <td>4</td>\n",
       "      <td>00ce762f-556d-4551-94b5-1c7c4c5ac123</td>\n",
       "      <td>Vodafone</td>\n",
       "      <td>Chester  Tunnel, 9206</td>\n",
       "    </tr>\n",
       "    <tr>\n",
       "      <th>4</th>\n",
       "      <td>5</td>\n",
       "      <td>e5d431d1-87a1-46db-a6b4-3ac06caa153c</td>\n",
       "      <td>Facebook</td>\n",
       "      <td>Sheffield Alley, 8271</td>\n",
       "    </tr>\n",
       "  </tbody>\n",
       "</table>\n",
       "</div>"
      ],
      "text/plain": [
       "   employee_id                            company_id    company_name  \\\n",
       "0            1  0efc48df-70d1-4c6a-8130-b0ca3f582570             UPC   \n",
       "1            2  ca42e4f3-849b-49f5-8653-a266fe6d02fe             UPC   \n",
       "2            3  6846a865-ddc6-45c1-8ea2-6992d50c7b97  Team Guard SRL   \n",
       "3            4  00ce762f-556d-4551-94b5-1c7c4c5ac123        Vodafone   \n",
       "4            5  e5d431d1-87a1-46db-a6b4-3ac06caa153c        Facebook   \n",
       "\n",
       "                location  \n",
       "0    Carlton  Hill, 3896  \n",
       "1   Timothy  Grove, 6591  \n",
       "2   Bempton   Road, 1640  \n",
       "3  Chester  Tunnel, 9206  \n",
       "4  Sheffield Alley, 8271  "
      ]
     },
     "execution_count": 50,
     "metadata": {},
     "output_type": "execute_result"
    }
   ],
   "source": [
    "company_df.head()"
   ]
  },
  {
   "cell_type": "code",
   "execution_count": 51,
   "id": "f29ed6a9",
   "metadata": {},
   "outputs": [],
   "source": [
    "# and our third!\n",
    "company_business_df = pd.read_csv('company_business.csv')"
   ]
  },
  {
   "cell_type": "code",
   "execution_count": 52,
   "id": "fc255aa5",
   "metadata": {},
   "outputs": [
    {
     "data": {
      "text/html": [
       "<div>\n",
       "<style scoped>\n",
       "    .dataframe tbody tr th:only-of-type {\n",
       "        vertical-align: middle;\n",
       "    }\n",
       "\n",
       "    .dataframe tbody tr th {\n",
       "        vertical-align: top;\n",
       "    }\n",
       "\n",
       "    .dataframe thead th {\n",
       "        text-align: right;\n",
       "    }\n",
       "</style>\n",
       "<table border=\"1\" class=\"dataframe\">\n",
       "  <thead>\n",
       "    <tr style=\"text-align: right;\">\n",
       "      <th></th>\n",
       "      <th>company_id</th>\n",
       "      <th>business</th>\n",
       "    </tr>\n",
       "  </thead>\n",
       "  <tbody>\n",
       "    <tr>\n",
       "      <th>0</th>\n",
       "      <td>0efc48df-70d1-4c6a-8130-b0ca3f582570</td>\n",
       "      <td>Materials</td>\n",
       "    </tr>\n",
       "    <tr>\n",
       "      <th>1</th>\n",
       "      <td>ca42e4f3-849b-49f5-8653-a266fe6d02fe</td>\n",
       "      <td>Energy</td>\n",
       "    </tr>\n",
       "    <tr>\n",
       "      <th>2</th>\n",
       "      <td>6846a865-ddc6-45c1-8ea2-6992d50c7b97</td>\n",
       "      <td>Technology</td>\n",
       "    </tr>\n",
       "    <tr>\n",
       "      <th>3</th>\n",
       "      <td>00ce762f-556d-4551-94b5-1c7c4c5ac123</td>\n",
       "      <td>Technology</td>\n",
       "    </tr>\n",
       "    <tr>\n",
       "      <th>4</th>\n",
       "      <td>e5d431d1-87a1-46db-a6b4-3ac06caa153c</td>\n",
       "      <td>Consumer Discretionary</td>\n",
       "    </tr>\n",
       "  </tbody>\n",
       "</table>\n",
       "</div>"
      ],
      "text/plain": [
       "                             company_id                business\n",
       "0  0efc48df-70d1-4c6a-8130-b0ca3f582570               Materials\n",
       "1  ca42e4f3-849b-49f5-8653-a266fe6d02fe                  Energy\n",
       "2  6846a865-ddc6-45c1-8ea2-6992d50c7b97              Technology\n",
       "3  00ce762f-556d-4551-94b5-1c7c4c5ac123              Technology\n",
       "4  e5d431d1-87a1-46db-a6b4-3ac06caa153c  Consumer Discretionary"
      ]
     },
     "execution_count": 52,
     "metadata": {},
     "output_type": "execute_result"
    }
   ],
   "source": [
    "company_business_df.head()"
   ]
  },
  {
   "cell_type": "code",
   "execution_count": 25,
   "id": "72cd79e6",
   "metadata": {},
   "outputs": [],
   "source": [
    "# writing a function that will create a connection to our pg db\n",
    "\n",
    "def connect_db():\n",
    "    # the db was already created in pgadmin\n",
    "    conn = psycopg2.connect(\"host=127.0.0.1 dbname=employee user=postgres password=postgres\")\n",
    "    conn.set_session(autocommit = True)\n",
    "    cur = conn.cursor()\n",
    "    \n",
    "    return cur, conn"
   ]
  },
  {
   "cell_type": "code",
   "execution_count": 27,
   "id": "503b55d6",
   "metadata": {},
   "outputs": [],
   "source": [
    "# calling our function here\n",
    "cur, conn = connect_db()"
   ]
  },
  {
   "cell_type": "code",
   "execution_count": 28,
   "id": "1ea743ae",
   "metadata": {},
   "outputs": [],
   "source": [
    "# we need to create 3 tables for our 3 csv files\n",
    "# the below script is the code for creating the first table\n",
    "\n",
    "employee_table = (\"\"\"CREATE TABLE IF NOT EXISTS employee(\n",
    "id INT PRIMARY KEY,\n",
    "name VARCHAR,\n",
    "phone VARCHAR,\n",
    "email VARCHAR,\n",
    "address VARCHAR\n",
    ")\"\"\")"
   ]
  },
  {
   "cell_type": "code",
   "execution_count": 29,
   "id": "37002064",
   "metadata": {},
   "outputs": [],
   "source": [
    "# executing our newly created table and committing\n",
    "cur.execute(employee_table)\n",
    "conn.commit()"
   ]
  },
  {
   "cell_type": "code",
   "execution_count": 42,
   "id": "e2a3f188",
   "metadata": {},
   "outputs": [],
   "source": [
    "# and creating the second table\n",
    "# here we are creating an ER - Entity Relationship\n",
    "# ER between company and employee table!\n",
    "\n",
    "company_table = (\"\"\"CREATE TABLE IF NOT EXISTS company(\n",
    "employee_id INT, FOREIGN KEY (employee_id) REFERENCES employee (id),\n",
    "company_id VARCHAR PRIMARY KEY,\n",
    "company_name VARCHAR,\n",
    "location VARCHAR\n",
    ")\"\"\")"
   ]
  },
  {
   "cell_type": "code",
   "execution_count": 43,
   "id": "17d48de4",
   "metadata": {},
   "outputs": [],
   "source": [
    "# executing and committing\n",
    "cur.execute(company_table)\n",
    "conn.commit()"
   ]
  },
  {
   "cell_type": "code",
   "execution_count": 44,
   "id": "650a4015",
   "metadata": {},
   "outputs": [],
   "source": [
    "# and creating the third table\n",
    "# an ER here between company business and company table\n",
    "\n",
    "company_business = (\"\"\"CREATE TABLE IF NOT EXISTS company_business(\n",
    "company_id VARCHAR, FOREIGN KEY (company_id) REFERENCES company (company_id),\n",
    "business VARCHAR\n",
    ")\"\"\")"
   ]
  },
  {
   "cell_type": "code",
   "execution_count": 45,
   "id": "ae6c716e",
   "metadata": {},
   "outputs": [],
   "source": [
    "# executing and committing\n",
    "cur.execute(company_business)\n",
    "conn.commit()"
   ]
  },
  {
   "cell_type": "code",
   "execution_count": 46,
   "id": "9c7c1047",
   "metadata": {},
   "outputs": [],
   "source": [
    "# after creating those tables, we are writing sql using wildcards\n",
    "# we will iterate and push our df after this\n",
    "\n",
    "employee_table_import = (\"\"\"INSERT INTO employee(\n",
    "id,\n",
    "name,\n",
    "phone,\n",
    "email,\n",
    "address)\n",
    "VALUES (%s, %s, %s, %s, %s)\n",
    "\"\"\") "
   ]
  },
  {
   "cell_type": "code",
   "execution_count": 53,
   "id": "19bf74fa",
   "metadata": {},
   "outputs": [],
   "source": [
    "# this is not the best practice to do in a production environment!\n",
    "# as the data is small, it's not a problem here\n",
    "\n",
    "# we are iterating through each row in our dataframe and executing\n",
    "for i, row in employee_df.iterrows():\n",
    "    cur.execute(employee_table_import, list(row))"
   ]
  },
  {
   "cell_type": "code",
   "execution_count": 54,
   "id": "b03d4e1f",
   "metadata": {},
   "outputs": [],
   "source": [
    "# committing our changes\n",
    "conn.commit()"
   ]
  },
  {
   "cell_type": "code",
   "execution_count": 57,
   "id": "aff84e41",
   "metadata": {},
   "outputs": [],
   "source": [
    "# same here! writing sql for our second table\n",
    "\n",
    "company_table_import = (\"\"\"INSERT INTO company(\n",
    "employee_id,\n",
    "company_id,\n",
    "company_name,\n",
    "location)\n",
    "VALUES (%s, %s, %s, %s)\n",
    "\"\"\")"
   ]
  },
  {
   "cell_type": "code",
   "execution_count": 58,
   "id": "e57d80d1",
   "metadata": {},
   "outputs": [],
   "source": [
    "# and iterating and pushing!\n",
    "for i, row in company_df.iterrows():\n",
    "    cur.execute(company_table_import, list(row))"
   ]
  },
  {
   "cell_type": "code",
   "execution_count": 59,
   "id": "8109814a",
   "metadata": {},
   "outputs": [],
   "source": [
    "conn.commit()"
   ]
  },
  {
   "cell_type": "code",
   "execution_count": 60,
   "id": "a79d39bf",
   "metadata": {},
   "outputs": [],
   "source": [
    "# and for the third table!\n",
    "\n",
    "company_business_table_import = (\"\"\"INSERT INTO company_business(\n",
    "company_id,\n",
    "business)\n",
    "VALUES (%s, %s)\n",
    "\"\"\")"
   ]
  },
  {
   "cell_type": "code",
   "execution_count": 61,
   "id": "9db6d180",
   "metadata": {},
   "outputs": [],
   "source": [
    "for i, row in company_business_df.iterrows():\n",
    "    cur.execute(company_business_table_import, list(row))"
   ]
  },
  {
   "cell_type": "code",
   "execution_count": 62,
   "id": "c16342d3",
   "metadata": {},
   "outputs": [],
   "source": [
    "# commiting our transactions!\n",
    "conn.commit()"
   ]
  }
 ],
 "metadata": {
  "kernelspec": {
   "display_name": "Python 3 (ipykernel)",
   "language": "python",
   "name": "python3"
  },
  "language_info": {
   "codemirror_mode": {
    "name": "ipython",
    "version": 3
   },
   "file_extension": ".py",
   "mimetype": "text/x-python",
   "name": "python",
   "nbconvert_exporter": "python",
   "pygments_lexer": "ipython3",
   "version": "3.8.10"
  }
 },
 "nbformat": 4,
 "nbformat_minor": 5
}
